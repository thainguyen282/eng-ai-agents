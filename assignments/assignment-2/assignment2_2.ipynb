{
 "cells": [
  {
   "cell_type": "markdown",
   "metadata": {},
   "source": [
    "The goal here is finding receptive fields across the PDN.\n",
    "receptive fields from the input is the number of pixels in the inputs that affect single neuron in the last layer\n",
    "We do this by tracing back from last layer being 1x1 to the input and if relative field of the inputs is 33x33. We can say author claim is proven. "
   ]
  },
  {
   "cell_type": "code",
   "execution_count": 3,
   "metadata": {},
   "outputs": [
    {
     "name": "stdout",
     "output_type": "stream",
     "text": [
      "Receptive Field: 33 x 33\n"
     ]
    }
   ],
   "source": [
    "layers = [\n",
    "    {\"kernel\": 4, \"stride\": 1, \"padding\": 3},\n",
    "    {\"kernel\": 2, \"stride\": 2, \"padding\": 1},\n",
    "    {\"kernel\": 4, \"stride\": 1, \"padding\": 3},\n",
    "    {\"kernel\": 2, \"stride\": 2, \"padding\": 1},\n",
    "    {\"kernel\": 3, \"stride\": 1, \"padding\": 1},\n",
    "    {\"kernel\": 4, \"stride\": 1, \"padding\": 0}\n",
    "]\n",
    "\n",
    "rf = 1 # Initial receptive field\n",
    "# the equation for relative field calculation is rf(L-1) = rf(L)*stride(L) + kernel(L) - stride(L)\n",
    "for layer in reversed(layers):\n",
    "    kernel, stride, padding = layer[\"kernel\"], layer[\"stride\"], layer[\"padding\"]\n",
    "\n",
    "    rf = rf*stride + kernel - stride\n",
    "\n",
    "print(f\"Receptive Field: {rf} x {rf}\")"
   ]
  },
  {
   "cell_type": "markdown",
   "metadata": {},
   "source": [
    "Each output neuron has a receptive field of 33× 33 pixels and thus each output feature vector describes a 33× 33 patch. \n",
    "The claim is proven"
   ]
  }
 ],
 "metadata": {
  "kernelspec": {
   "display_name": ".venv",
   "language": "python",
   "name": "python3"
  },
  "language_info": {
   "codemirror_mode": {
    "name": "ipython",
    "version": 3
   },
   "file_extension": ".py",
   "mimetype": "text/x-python",
   "name": "python",
   "nbconvert_exporter": "python",
   "pygments_lexer": "ipython3",
   "version": "3.11.9"
  }
 },
 "nbformat": 4,
 "nbformat_minor": 2
}
